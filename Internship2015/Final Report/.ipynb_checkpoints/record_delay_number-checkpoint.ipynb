{
 "metadata": {
  "name": "",
  "signature": "sha256:92894afaef85dbd6aadd8dfe39a5d1472e01a2af64ee5a34615e9e96bd0bc324"
 },
 "nbformat": 3,
 "nbformat_minor": 0,
 "worksheets": [
  {
   "cells": [
    {
     "cell_type": "code",
     "collapsed": false,
     "input": [
      "import os\n",
      "os.chdir('C:\\\\Users\\\\Christina\\\\InfoBeyond')\n",
      "from affinity_propagation import *\n",
      "from init_affinity_propagation import *\n",
      "from updated_affinity_propagation import *\n",
      "from updated_w_d import *\n",
      "import matplotlib.pyplot as plt\n",
      "from updated_exemp_preference import *\n",
      "from itertools import cycle\n",
      "import numpy as np"
     ],
     "language": "python",
     "metadata": {},
     "outputs": [],
     "prompt_number": 1
    },
    {
     "cell_type": "code",
     "collapsed": false,
     "input": [
      "import time\n",
      "m=[50,100,200,300,500,800,1000]#400,500,600,700,800,1000\n",
      "cost=[]\n",
      "for i in m:\n",
      "    mean1 = [0,0]\n",
      "    cov1 = [[1,0],[0,1]]\n",
      "    mean2=[10,10]\n",
      "    cov2=[[1,0],[0,1]]\n",
      "    mean3=[20,20]\n",
      "    cov3=[[1,0],[0,1]]\n",
      "    x1,y1=np.random.multivariate_normal(mean1,cov1,i).T\n",
      "    x2,y2=np.random.multivariate_normal(mean2,cov2,i).T\n",
      "    x3,y3=np.random.multivariate_normal(mean3,cov3,i).T\n",
      "    x=np.concatenate((np.concatenate((x1,x2)),x3))\n",
      "    y=np.concatenate((np.concatenate((y1,y2)),y3))\n",
      "    x=np.array(x)\n",
      "    y=np.array(y)\n",
      "    z1=np.array(zip(x,y))\n",
      "    ap=AffinityPropagation().fit(z1) \n",
      "    a1,b1,c1,d1=init_ap(ap,z1)\n",
      "    labels1=ap.labels_\n",
      "    z_labels1=zip(z1[:,0],z1[:,1],labels1)\n",
      "    cluster_indices1=ap.cluster_centers_indices_\n",
      "    cluster_centers1=ap.cluster_centers_\n",
      "    n1_cluster=len(cluster_centers1)\n",
      "    mean1 = [0,0.5]\n",
      "    cov1 = [[1,0],[0,1]]\n",
      "    mean2=[10,10.5]\n",
      "    cov2=[[1,0],[0,1]]\n",
      "    mean3=[20,20.5]\n",
      "    cov3=[[1,0],[0,1]]\n",
      "    x1,y1=np.random.multivariate_normal(mean1,cov1,i).T\n",
      "    x2,y2=np.random.multivariate_normal(mean2,cov2,i).T\n",
      "    x3,y3=np.random.multivariate_normal(mean3,cov3,i).T\n",
      "    x=np.concatenate((np.concatenate((x1,x2)),x3))\n",
      "    y=np.concatenate((np.concatenate((y1,y2)),y3))\n",
      "    x=np.array(x)\n",
      "    y=np.array(y)\n",
      "    z22=np.array(zip(x,y))\n",
      "    z2=np.concatenate((a1,z22))\n",
      "    start_time=time.time()\n",
      "    updated_ap2=UpdatedAffinityPropagation().fit(z2,a1,b1,c1,d1) \n",
      "    affinity_matrix2=updated_ap2.affinity_matrix_\n",
      "    labels2=updated_ap2.labels_\n",
      "    z_labels2=zip(z2[:,0],z2[:,1],labels2)\n",
      "    cluster_indices2=updated_ap2.cluster_centers_indices_\n",
      "    cluster_centers2=updated_ap2.cluster_centers_\n",
      "    n2_cluster=len(cluster_centers2)\n",
      "    a2=cluster_centers2#cluster_centers\n",
      "    b2=updated_weight(a1,a2,b1,labels2,5)#exemplar weigth\n",
      "    c2=updated_weighted_dissimilarity(a1,a2,c1,labels2,z2,5)# weighted dissimilarity\n",
      "    d2=update_preference_exemp(cluster_indices2,affinity_matrix2)#exemplar preference\n",
      "    tim=time.time()-start_time\n",
      "    cost.append(tim)"
     ],
     "language": "python",
     "metadata": {},
     "outputs": []
    },
    {
     "cell_type": "code",
     "collapsed": false,
     "input": [
      "plt.plot(m,cost)\n",
      "plt.xlabel(\"the number of data every epoch\",fontsize=15)\n",
      "plt.ylabel(\"cost\",fontsize=15)\n",
      "plt.title(\"the cost vs the number of data every epoch\",fontsize=15)"
     ],
     "language": "python",
     "metadata": {},
     "outputs": [
      {
       "metadata": {},
       "output_type": "pyout",
       "prompt_number": 5,
       "text": [
        "<matplotlib.text.Text at 0x95f39e8>"
       ]
      },
      {
       "metadata": {},
       "output_type": "display_data",
       "png": "[encoded data removed]",
       "text": [
        "<matplotlib.figure.Figure at 0x9cfca90>"
       ]
      }
     ],
     "prompt_number": 5
    },
    {
     "cell_type": "code",
     "collapsed": false,
     "input": [],
     "language": "python",
     "metadata": {},
     "outputs": []
    }
   ],
   "metadata": {}
  }
 ]
}