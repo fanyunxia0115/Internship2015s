{
 "metadata": {
  "name": "",
  "signature": "sha256:b8dc32b43addc1816dda7b5928841de5a58b6d8471608276ac6a7fbffca4df6f"
 },
 "nbformat": 3,
 "nbformat_minor": 0,
 "worksheets": [
  {
   "cells": [
    {
     "cell_type": "heading",
     "level": 1,
     "metadata": {},
     "source": [
      "AdaBoost Classification of climate data"
     ]
    },
    {
     "cell_type": "code",
     "collapsed": false,
     "input": [
      "import numpy as np\n",
      "import pandas as pa\n",
      "import matplotlib.pyplot as plt\n",
      "import random\n",
      "print(__doc__)\n",
      "from matplotlib.colors import Normalize\n",
      "from sklearn.svm import SVC\n",
      "from sklearn.cross_validation import StratifiedShuffleSplit\n",
      "from sklearn.grid_search import GridSearchCV\n",
      "import timeit\n",
      "from sklearn.ensemble import AdaBoostClassifier\n",
      "from sklearn import cross_validation"
     ],
     "language": "python",
     "metadata": {},
     "outputs": [
      {
       "output_type": "stream",
       "stream": "stdout",
       "text": [
        "Automatically created module for IPython interactive environment\n"
       ]
      }
     ],
     "prompt_number": 6
    },
    {
     "cell_type": "code",
     "collapsed": false,
     "input": [
      "# split the data into training set and test set randomly\n",
      "climate=np.array(pa.read_fwf('C:\\Users\\Christina\\Desktop\\climate.txt'))\n",
      "random.shuffle(climate)\n",
      "train_x=climate[:378,:20]\n",
      "train_y=climate[:378:,-1]\n",
      "test_x=climate[378:,:20]\n",
      "test_y=climate[378:,-1]"
     ],
     "language": "python",
     "metadata": {},
     "outputs": [],
     "prompt_number": 2
    },
    {
     "cell_type": "heading",
     "level": 2,
     "metadata": {},
     "source": [
      "Since main parameter is the n_estimators, I apply cross validation to find the best parameter through the training data"
     ]
    },
    {
     "cell_type": "code",
     "collapsed": false,
     "input": [
      "ab_model=AdaBoostClassifier()\n",
      "estimator=[10,20,30,50,70,80,90,100,110,120,150,200,250,300,400,500]\n",
      "scores=[]\n",
      "scores_std=[]\n",
      "for n_estimators in estimator:\n",
      "    ab_model.n_estimators=n_estimators\n",
      "    this_scores = cross_validation.cross_val_score(ab_model,train_x,train_y, n_jobs=1)\n",
      "    scores.append(np.mean(this_scores))\n",
      "    scores_std.append(np.std(this_scores))   "
     ],
     "language": "python",
     "metadata": {},
     "outputs": [],
     "prompt_number": 19
    },
    {
     "cell_type": "code",
     "collapsed": false,
     "input": [
      "scores"
     ],
     "language": "python",
     "metadata": {},
     "outputs": [
      {
       "metadata": {},
       "output_type": "pyout",
       "prompt_number": 23,
       "text": [
        "[0.93386243386243384,\n",
        " 0.95238095238095222,\n",
        " 0.94179894179894186,\n",
        " 0.93915343915343907,\n",
        " 0.94708994708994698,\n",
        " 0.955026455026455,\n",
        " 0.94973544973544965,\n",
        " 0.95502645502645489,\n",
        " 0.95502645502645489,\n",
        " 0.95767195767195767,\n",
        " 0.95238095238095244,\n",
        " 0.94179894179894186,\n",
        " 0.94179894179894186,\n",
        " 0.9365079365079364,\n",
        " 0.93915343915343918,\n",
        " 0.93915343915343918]"
       ]
      }
     ],
     "prompt_number": 23
    },
    {
     "cell_type": "code",
     "collapsed": false,
     "input": [
      "scores_std"
     ],
     "language": "python",
     "metadata": {},
     "outputs": [
      {
       "metadata": {},
       "output_type": "pyout",
       "prompt_number": 24,
       "text": [
        "[0.031965730088874551,\n",
        " 0.0064801315946645139,\n",
        " 0.031965730088874517,\n",
        " 0.024533382263216146,\n",
        " 0.013489469612679314,\n",
        " 0.0074826114411275122,\n",
        " 0.0098985645152749827,\n",
        " 0.0037413057205637821,\n",
        " 0.0037413057205637821,\n",
        " 0.0037413057205637826,\n",
        " 0.011223917161691244,\n",
        " 0.026189140043946214,\n",
        " 0.026189140043946214,\n",
        " 0.02336444673631706,\n",
        " 0.029930445764509945,\n",
        " 0.029930445764509945]"
       ]
      }
     ],
     "prompt_number": 24
    },
    {
     "cell_type": "code",
     "collapsed": false,
     "input": [
      "plt.figure(figsize=(8, 8))\n",
      "plt.plot(estimator, scores,color=\"darkviolet\")\n",
      "# plot error lines showing +/- std. errors of the scores\n",
      "plt.plot(estimator, np.array(scores) + np.array(scores_std) / np.sqrt(len(train_x)),\n",
      "             '--',color=\"navy\",linewidth=2)\n",
      "plt.plot(estimator, np.array(scores) - np.array(scores_std) / np.sqrt(len(train_x)),\n",
      "             '--',color=\"black\",linewidth=2)\n",
      "plt.ylabel('CV score')\n",
      "plt.xlabel('n_estimators')\n",
      "plt.axhline(np.max(scores), linestyle='--', color='red')\n",
      "plt.axvline(estimator[argmax(scores)],linestyle='--',color='red')\n",
      "plt.title(\"Valivdation Accuracy\",color=\"green\")\n",
      "plt.text(120,0.958,\"(120,0.958)\",color='black')"
     ],
     "language": "python",
     "metadata": {},
     "outputs": [
      {
       "metadata": {},
       "output_type": "pyout",
       "prompt_number": 41,
       "text": [
        "<matplotlib.text.Text at 0xf3f6d68>"
       ]
      },
      {
       "metadata": {},
       "output_type": "display_data",
       "png": "[encoded data removed]",
       "text": [
        "<matplotlib.figure.Figure at 0xf0f14e0>"
       ]
      }
     ],
     "prompt_number": 41
    },
    {
     "cell_type": "heading",
     "level": 2,
     "metadata": {},
     "source": [
      "From the above we can see that the optimal n_estimators is 120 with the accuracy 0.958. Then we train the whole training data with the optimal parameters and test on the test data set"
     ]
    },
    {
     "cell_type": "code",
     "collapsed": false,
     "input": [
      "ada_model=AdaBoostClassifier(n_estimators=120).fit(train_x,train_y)\n",
      "ada_model"
     ],
     "language": "python",
     "metadata": {},
     "outputs": [
      {
       "metadata": {},
       "output_type": "pyout",
       "prompt_number": 43,
       "text": [
        "AdaBoostClassifier(algorithm='SAMME.R', base_estimator=None,\n",
        "          learning_rate=1.0, n_estimators=120, random_state=None)"
       ]
      }
     ],
     "prompt_number": 43
    },
    {
     "cell_type": "code",
     "collapsed": false,
     "input": [
      "start=timeit.default_timer()\n",
      "ada_predict=ada_model.predict(test_x)\n",
      "stop=timeit.default_timer()  \n",
      "count=0\n",
      "for i in range(162):\n",
      "  if ada_predict[i]!=test_y[i]:\n",
      "        count=count+1\n",
      "print (\"error rate:\",count/162.)\n",
      "print (\"running time per stream:\",(stop-start)/162.)"
     ],
     "language": "python",
     "metadata": {},
     "outputs": [
      {
       "output_type": "stream",
       "stream": "stdout",
       "text": [
        "('error rate:', 0.024691358024691357)\n",
        "('running time per stream:', 0.0005403633198163132)\n"
       ]
      }
     ],
     "prompt_number": 45
    },
    {
     "cell_type": "heading",
     "level": 2,
     "metadata": {},
     "source": [
      "Error Rate: 2.47%"
     ]
    },
    {
     "cell_type": "heading",
     "level": 2,
     "metadata": {},
     "source": [
      "Running Time per Stream: 5.4e(-4)"
     ]
    },
    {
     "cell_type": "heading",
     "level": 2,
     "metadata": {},
     "source": [
      "Show the importance of the features"
     ]
    },
    {
     "cell_type": "code",
     "collapsed": false,
     "input": [
      "importances=ada_model.feature_importances_\n",
      "importances"
     ],
     "language": "python",
     "metadata": {},
     "outputs": [
      {
       "metadata": {},
       "output_type": "pyout",
       "prompt_number": 48,
       "text": [
        "array([ 0.        ,  0.025     ,  0.125     ,  0.125     ,  0.00833333,\n",
        "        0.05833333,  0.05833333,  0.03333333,  0.01666667,  0.04166667,\n",
        "        0.00833333,  0.04166667,  0.06666667,  0.04166667,  0.08333333,\n",
        "        0.06666667,  0.025     ,  0.075     ,  0.06666667,  0.03333333])"
       ]
      }
     ],
     "prompt_number": 48
    },
    {
     "cell_type": "code",
     "collapsed": false,
     "input": [
      "std = np.std([tree.feature_importances_ for tree in ada_model.estimators_],\n",
      "             axis=0)\n",
      "indices = np.argsort(importances)[::-1]\n",
      "\n",
      "# Print the feature ranking\n",
      "print(\"Feature ranking:\")\n",
      "\n",
      "for f in range(20):\n",
      "    print(\"%d. feature %d (%f)\" % (f + 1, indices[f], importances[indices[f]]))\n",
      "\n",
      "# Plot the feature importances of the forest\n",
      "plt.figure(figsize=(8,8))\n",
      "plt.title(\"Feature importances\")\n",
      "plt.bar(range(20), importances[indices],\n",
      "       color=\"darkcyan\",ecolor=\"blueviolet\",align=\"center\")\n",
      "plt.xticks(range(20), indices)\n",
      "plt.xlim([-1, 20])\n",
      "plt.ylim([-0,0.15])\n",
      "plt.xlabel(\"Feature\")\n",
      "plt.ylabel(\"Importance\")\n",
      "plt.show()      "
     ],
     "language": "python",
     "metadata": {},
     "outputs": [
      {
       "output_type": "stream",
       "stream": "stdout",
       "text": [
        "Feature ranking:\n",
        "1. feature 2 (0.125000)\n",
        "2. feature 3 (0.125000)\n",
        "3. feature 14 (0.083333)\n",
        "4. feature 17 (0.075000)\n",
        "5. feature 15 (0.066667)\n",
        "6. feature 12 (0.066667)\n",
        "7. feature 18 (0.066667)\n",
        "8. feature 6 (0.058333)\n",
        "9. feature 5 (0.058333)\n",
        "10. feature 9 (0.041667)\n",
        "11. feature 13 (0.041667)\n",
        "12. feature 11 (0.041667)\n",
        "13. feature 19 (0.033333)\n",
        "14. feature 7 (0.033333)\n",
        "15. feature 16 (0.025000)\n",
        "16. feature 1 (0.025000)\n",
        "17. feature 8 (0.016667)\n",
        "18. feature 4 (0.008333)\n",
        "19. feature 10 (0.008333)\n",
        "20. feature 0 (0.000000)\n"
       ]
      },
      {
       "metadata": {},
       "output_type": "display_data",
       "png": "[encoded data removed]",
       "text": [
        "<matplotlib.figure.Figure at 0x10962978>"
       ]
      }
     ],
     "prompt_number": 56
    },
    {
     "cell_type": "code",
     "collapsed": false,
     "input": [
      "np.sum(importances)"
     ],
     "language": "python",
     "metadata": {},
     "outputs": [
      {
       "metadata": {},
       "output_type": "pyout",
       "prompt_number": 57,
       "text": [
        "0.99999999999999989"
       ]
      }
     ],
     "prompt_number": 57
    },
    {
     "cell_type": "code",
     "collapsed": false,
     "input": [],
     "language": "python",
     "metadata": {},
     "outputs": []
    }
   ],
   "metadata": {}
  }
 ]
}